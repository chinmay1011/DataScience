{
 "cells": [
  {
   "cell_type": "code",
   "execution_count": 1,
   "metadata": {},
   "outputs": [],
   "source": [
    "#Step 1: Initial exploration of the Dataset"
   ]
  },
  {
   "cell_type": "code",
   "execution_count": 2,
   "metadata": {},
   "outputs": [],
   "source": [
    "import pandas as pd\n",
    "import numpy as np\n",
    "import random\n",
    "import matplotlib.pyplot as plt"
   ]
  },
  {
   "cell_type": "code",
   "execution_count": 73,
   "metadata": {},
   "outputs": [
    {
     "data": {
      "text/plain": [
       "(5656458, 6)"
      ]
     },
     "execution_count": 73,
     "metadata": {},
     "output_type": "execute_result"
    }
   ],
   "source": [
    "data = pd.read_csv('./world-development-indicators/Indicators.csv')\n",
    "data.shape"
   ]
  },
  {
   "cell_type": "code",
   "execution_count": 4,
   "metadata": {},
   "outputs": [
    {
     "data": {
      "text/plain": [
       "1344"
      ]
     },
     "execution_count": 4,
     "metadata": {},
     "output_type": "execute_result"
    }
   ],
   "source": [
    "# How many unique indicators are there ? (should be the same #)\n",
    "indicators = data['IndicatorName'].unique().tolist()\n",
    "len(indicators)"
   ]
  },
  {
   "cell_type": "markdown",
   "metadata": {},
   "source": [
    "<b>Lets explore the GDP per capita data for India</b>"
   ]
  },
  {
   "cell_type": "code",
   "execution_count": 347,
   "metadata": {},
   "outputs": [],
   "source": [
    "gdp_filter = 'GDP per capita \\(constant 2005'\n",
    "country_filter = 'IND'\n",
    "\n",
    "mask1 = data['CountryCode'].str.contains(country_filter)\n",
    "mask2 = data['IndicatorName'].str.contains(gdp_filter)\n",
    "\n",
    "gdp_data = data[mask1 & mask2]"
   ]
  },
  {
   "cell_type": "code",
   "execution_count": 348,
   "metadata": {},
   "outputs": [
    {
     "data": {
      "text/html": [
       "<div>\n",
       "<style scoped>\n",
       "    .dataframe tbody tr th:only-of-type {\n",
       "        vertical-align: middle;\n",
       "    }\n",
       "\n",
       "    .dataframe tbody tr th {\n",
       "        vertical-align: top;\n",
       "    }\n",
       "\n",
       "    .dataframe thead th {\n",
       "        text-align: right;\n",
       "    }\n",
       "</style>\n",
       "<table border=\"1\" class=\"dataframe\">\n",
       "  <thead>\n",
       "    <tr style=\"text-align: right;\">\n",
       "      <th></th>\n",
       "      <th>CountryName</th>\n",
       "      <th>CountryCode</th>\n",
       "      <th>IndicatorName</th>\n",
       "      <th>IndicatorCode</th>\n",
       "      <th>Year</th>\n",
       "      <th>Value</th>\n",
       "    </tr>\n",
       "  </thead>\n",
       "  <tbody>\n",
       "    <tr>\n",
       "      <th>11616</th>\n",
       "      <td>India</td>\n",
       "      <td>IND</td>\n",
       "      <td>GDP per capita (constant 2005 US$)</td>\n",
       "      <td>NY.GDP.PCAP.KD</td>\n",
       "      <td>1960</td>\n",
       "      <td>228.304470</td>\n",
       "    </tr>\n",
       "    <tr>\n",
       "      <th>36555</th>\n",
       "      <td>India</td>\n",
       "      <td>IND</td>\n",
       "      <td>GDP per capita (constant 2005 US$)</td>\n",
       "      <td>NY.GDP.PCAP.KD</td>\n",
       "      <td>1961</td>\n",
       "      <td>232.142053</td>\n",
       "    </tr>\n",
       "    <tr>\n",
       "      <th>64095</th>\n",
       "      <td>India</td>\n",
       "      <td>IND</td>\n",
       "      <td>GDP per capita (constant 2005 US$)</td>\n",
       "      <td>NY.GDP.PCAP.KD</td>\n",
       "      <td>1962</td>\n",
       "      <td>234.166685</td>\n",
       "    </tr>\n",
       "    <tr>\n",
       "      <th>92540</th>\n",
       "      <td>India</td>\n",
       "      <td>IND</td>\n",
       "      <td>GDP per capita (constant 2005 US$)</td>\n",
       "      <td>NY.GDP.PCAP.KD</td>\n",
       "      <td>1963</td>\n",
       "      <td>243.176418</td>\n",
       "    </tr>\n",
       "    <tr>\n",
       "      <th>121337</th>\n",
       "      <td>India</td>\n",
       "      <td>IND</td>\n",
       "      <td>GDP per capita (constant 2005 US$)</td>\n",
       "      <td>NY.GDP.PCAP.KD</td>\n",
       "      <td>1964</td>\n",
       "      <td>255.963668</td>\n",
       "    </tr>\n",
       "  </tbody>\n",
       "</table>\n",
       "</div>"
      ],
      "text/plain": [
       "       CountryName CountryCode                       IndicatorName  \\\n",
       "11616        India         IND  GDP per capita (constant 2005 US$)   \n",
       "36555        India         IND  GDP per capita (constant 2005 US$)   \n",
       "64095        India         IND  GDP per capita (constant 2005 US$)   \n",
       "92540        India         IND  GDP per capita (constant 2005 US$)   \n",
       "121337       India         IND  GDP per capita (constant 2005 US$)   \n",
       "\n",
       "         IndicatorCode  Year       Value  \n",
       "11616   NY.GDP.PCAP.KD  1960  228.304470  \n",
       "36555   NY.GDP.PCAP.KD  1961  232.142053  \n",
       "64095   NY.GDP.PCAP.KD  1962  234.166685  \n",
       "92540   NY.GDP.PCAP.KD  1963  243.176418  \n",
       "121337  NY.GDP.PCAP.KD  1964  255.963668  "
      ]
     },
     "execution_count": 348,
     "metadata": {},
     "output_type": "execute_result"
    }
   ],
   "source": [
    "gdp_data.head()"
   ]
  },
  {
   "cell_type": "markdown",
   "metadata": {},
   "source": [
    "<b>Exploring the changes in GDP of India by plotting a line plot</b>"
   ]
  },
  {
   "cell_type": "code",
   "execution_count": 358,
   "metadata": {},
   "outputs": [
    {
     "data": {
      "image/png": "[encoded data removed]",
      "text/plain": [
       "<Figure size 432x288 with 1 Axes>"
      ]
     },
     "metadata": {},
     "output_type": "display_data"
    }
   ],
   "source": [
    "# switch to a line plot\n",
    "plt.plot(stage1['Year'].values, stage1['Value'].values)\n",
    "\n",
    "# Label the axes\n",
    "plt.xlabel('Year')\n",
    "plt.ylabel(gdp_data['IndicatorName'].iloc[0])\n",
    "\n",
    "#label the figure\n",
    "plt.title('GDP growth over the years India')\n",
    "\n",
    "# to make more honest, start they y axis at 0\n",
    "plt.axis([gdp_data['Year'].min(),gdp_data['Year'].max()+1,0,1.2*gdp_data['Value'].max()])\n",
    "\n",
    "plt.show()"
   ]
  },
  {
   "cell_type": "markdown",
   "metadata": {},
   "source": [
    "We can see there has been a substantial growth in GDP since 1990."
   ]
  },
  {
   "cell_type": "markdown",
   "metadata": {},
   "source": [
    "<b>Lets see how the health expenditure have changed over the years for India</b>"
   ]
  },
  {
   "cell_type": "code",
   "execution_count": 360,
   "metadata": {},
   "outputs": [],
   "source": [
    "health_exp_filter = 'Health expenditure per capita, PPP \\(constant 2011'\n",
    "\n",
    "mask3 = data['IndicatorName'].str.contains(health_exp_filter)\n",
    "\n",
    "health_exp_data = data[mask1 & mask3]"
   ]
  },
  {
   "cell_type": "code",
   "execution_count": 498,
   "metadata": {},
   "outputs": [
    {
     "data": {
      "text/html": [
       "<div>\n",
       "<style scoped>\n",
       "    .dataframe tbody tr th:only-of-type {\n",
       "        vertical-align: middle;\n",
       "    }\n",
       "\n",
       "    .dataframe tbody tr th {\n",
       "        vertical-align: top;\n",
       "    }\n",
       "\n",
       "    .dataframe thead th {\n",
       "        text-align: right;\n",
       "    }\n",
       "</style>\n",
       "<table border=\"1\" class=\"dataframe\">\n",
       "  <thead>\n",
       "    <tr style=\"text-align: right;\">\n",
       "      <th></th>\n",
       "      <th>CountryName</th>\n",
       "      <th>CountryCode</th>\n",
       "      <th>IndicatorName</th>\n",
       "      <th>IndicatorCode</th>\n",
       "      <th>Year</th>\n",
       "      <th>Value</th>\n",
       "    </tr>\n",
       "  </thead>\n",
       "  <tbody>\n",
       "    <tr>\n",
       "      <th>2550714</th>\n",
       "      <td>India</td>\n",
       "      <td>IND</td>\n",
       "      <td>Health expenditure per capita, PPP (constant 2...</td>\n",
       "      <td>SH.XPD.PCAP.PP.KD</td>\n",
       "      <td>1995</td>\n",
       "      <td>62.693714</td>\n",
       "    </tr>\n",
       "    <tr>\n",
       "      <th>2685735</th>\n",
       "      <td>India</td>\n",
       "      <td>IND</td>\n",
       "      <td>Health expenditure per capita, PPP (constant 2...</td>\n",
       "      <td>SH.XPD.PCAP.PP.KD</td>\n",
       "      <td>1996</td>\n",
       "      <td>65.399908</td>\n",
       "    </tr>\n",
       "    <tr>\n",
       "      <th>2821168</th>\n",
       "      <td>India</td>\n",
       "      <td>IND</td>\n",
       "      <td>Health expenditure per capita, PPP (constant 2...</td>\n",
       "      <td>SH.XPD.PCAP.PP.KD</td>\n",
       "      <td>1997</td>\n",
       "      <td>74.078822</td>\n",
       "    </tr>\n",
       "    <tr>\n",
       "      <th>2958144</th>\n",
       "      <td>India</td>\n",
       "      <td>IND</td>\n",
       "      <td>Health expenditure per capita, PPP (constant 2...</td>\n",
       "      <td>SH.XPD.PCAP.PP.KD</td>\n",
       "      <td>1998</td>\n",
       "      <td>79.051808</td>\n",
       "    </tr>\n",
       "    <tr>\n",
       "      <th>3097440</th>\n",
       "      <td>India</td>\n",
       "      <td>IND</td>\n",
       "      <td>Health expenditure per capita, PPP (constant 2...</td>\n",
       "      <td>SH.XPD.PCAP.PP.KD</td>\n",
       "      <td>1999</td>\n",
       "      <td>80.501938</td>\n",
       "    </tr>\n",
       "  </tbody>\n",
       "</table>\n",
       "</div>"
      ],
      "text/plain": [
       "        CountryName CountryCode  \\\n",
       "2550714       India         IND   \n",
       "2685735       India         IND   \n",
       "2821168       India         IND   \n",
       "2958144       India         IND   \n",
       "3097440       India         IND   \n",
       "\n",
       "                                             IndicatorName      IndicatorCode  \\\n",
       "2550714  Health expenditure per capita, PPP (constant 2...  SH.XPD.PCAP.PP.KD   \n",
       "2685735  Health expenditure per capita, PPP (constant 2...  SH.XPD.PCAP.PP.KD   \n",
       "2821168  Health expenditure per capita, PPP (constant 2...  SH.XPD.PCAP.PP.KD   \n",
       "2958144  Health expenditure per capita, PPP (constant 2...  SH.XPD.PCAP.PP.KD   \n",
       "3097440  Health expenditure per capita, PPP (constant 2...  SH.XPD.PCAP.PP.KD   \n",
       "\n",
       "         Year      Value  \n",
       "2550714  1995  62.693714  \n",
       "2685735  1996  65.399908  \n",
       "2821168  1997  74.078822  \n",
       "2958144  1998  79.051808  \n",
       "3097440  1999  80.501938  "
      ]
     },
     "execution_count": 498,
     "metadata": {},
     "output_type": "execute_result"
    }
   ],
   "source": [
    "health_exp_data.head()"
   ]
  },
  {
   "cell_type": "markdown",
   "metadata": {},
   "source": [
    "<b>We can check how the growth in the GDP affected the health expenditure by looking at the correlation.</b>"
   ]
  },
  {
   "cell_type": "code",
   "execution_count": 364,
   "metadata": {},
   "outputs": [],
   "source": [
    "filtered_gdp_data = gdp_data[gdp_data['Year'].isin(health_exp_data['Year'].unique().tolist())]"
   ]
  },
  {
   "cell_type": "code",
   "execution_count": 365,
   "metadata": {},
   "outputs": [
    {
     "data": {
      "text/plain": [
       "array([[1.        , 0.99432724],\n",
       "       [0.99432724, 1.        ]])"
      ]
     },
     "execution_count": 365,
     "metadata": {},
     "output_type": "execute_result"
    }
   ],
   "source": [
    "np.corrcoef(filtered_stage1['Value'], stage2['Value'])"
   ]
  },
  {
   "cell_type": "markdown",
   "metadata": {},
   "source": [
    "A correlation of 0.99 is a very good correlation. So we can conclude the GDP growth have lead to proportional increase in health expenditure in India."
   ]
  },
  {
   "cell_type": "code",
   "execution_count": 366,
   "metadata": {},
   "outputs": [],
   "source": [
    "life_exp_filter = 'Life expectancy at birth, total \\(years\\)'\n",
    "\n",
    "mask4 = data['IndicatorName'].str.contains(life_exp_filter)\n",
    "\n",
    "life_exp_data = data[mask1 & mask4]"
   ]
  },
  {
   "cell_type": "code",
   "execution_count": 381,
   "metadata": {},
   "outputs": [
    {
     "data": {
      "text/html": [
       "<div>\n",
       "<style scoped>\n",
       "    .dataframe tbody tr th:only-of-type {\n",
       "        vertical-align: middle;\n",
       "    }\n",
       "\n",
       "    .dataframe tbody tr th {\n",
       "        vertical-align: top;\n",
       "    }\n",
       "\n",
       "    .dataframe thead th {\n",
       "        text-align: right;\n",
       "    }\n",
       "</style>\n",
       "<table border=\"1\" class=\"dataframe\">\n",
       "  <thead>\n",
       "    <tr style=\"text-align: right;\">\n",
       "      <th></th>\n",
       "      <th>CountryName</th>\n",
       "      <th>CountryCode</th>\n",
       "      <th>IndicatorName</th>\n",
       "      <th>IndicatorCode</th>\n",
       "      <th>Year</th>\n",
       "      <th>Value</th>\n",
       "    </tr>\n",
       "  </thead>\n",
       "  <tbody>\n",
       "    <tr>\n",
       "      <th>11684</th>\n",
       "      <td>India</td>\n",
       "      <td>IND</td>\n",
       "      <td>Life expectancy at birth, total (years)</td>\n",
       "      <td>SP.DYN.LE00.IN</td>\n",
       "      <td>1960</td>\n",
       "      <td>41.171951</td>\n",
       "    </tr>\n",
       "    <tr>\n",
       "      <th>36635</th>\n",
       "      <td>India</td>\n",
       "      <td>IND</td>\n",
       "      <td>Life expectancy at birth, total (years)</td>\n",
       "      <td>SP.DYN.LE00.IN</td>\n",
       "      <td>1961</td>\n",
       "      <td>41.790488</td>\n",
       "    </tr>\n",
       "    <tr>\n",
       "      <th>64177</th>\n",
       "      <td>India</td>\n",
       "      <td>IND</td>\n",
       "      <td>Life expectancy at birth, total (years)</td>\n",
       "      <td>SP.DYN.LE00.IN</td>\n",
       "      <td>1962</td>\n",
       "      <td>42.417415</td>\n",
       "    </tr>\n",
       "    <tr>\n",
       "      <th>92622</th>\n",
       "      <td>India</td>\n",
       "      <td>IND</td>\n",
       "      <td>Life expectancy at birth, total (years)</td>\n",
       "      <td>SP.DYN.LE00.IN</td>\n",
       "      <td>1963</td>\n",
       "      <td>43.052732</td>\n",
       "    </tr>\n",
       "    <tr>\n",
       "      <th>121419</th>\n",
       "      <td>India</td>\n",
       "      <td>IND</td>\n",
       "      <td>Life expectancy at birth, total (years)</td>\n",
       "      <td>SP.DYN.LE00.IN</td>\n",
       "      <td>1964</td>\n",
       "      <td>43.698415</td>\n",
       "    </tr>\n",
       "  </tbody>\n",
       "</table>\n",
       "</div>"
      ],
      "text/plain": [
       "       CountryName CountryCode                            IndicatorName  \\\n",
       "11684        India         IND  Life expectancy at birth, total (years)   \n",
       "36635        India         IND  Life expectancy at birth, total (years)   \n",
       "64177        India         IND  Life expectancy at birth, total (years)   \n",
       "92622        India         IND  Life expectancy at birth, total (years)   \n",
       "121419       India         IND  Life expectancy at birth, total (years)   \n",
       "\n",
       "         IndicatorCode  Year      Value  \n",
       "11684   SP.DYN.LE00.IN  1960  41.171951  \n",
       "36635   SP.DYN.LE00.IN  1961  41.790488  \n",
       "64177   SP.DYN.LE00.IN  1962  42.417415  \n",
       "92622   SP.DYN.LE00.IN  1963  43.052732  \n",
       "121419  SP.DYN.LE00.IN  1964  43.698415  "
      ]
     },
     "execution_count": 381,
     "metadata": {},
     "output_type": "execute_result"
    }
   ],
   "source": [
    "life_exp_data.head()"
   ]
  },
  {
   "cell_type": "markdown",
   "metadata": {},
   "source": [
    "Lets plot this data across the line plot to understand it better."
   ]
  },
  {
   "cell_type": "code",
   "execution_count": 378,
   "metadata": {},
   "outputs": [
    {
     "data": {
      "image/png": "[encoded data removed]",
      "text/plain": [
       "<Figure size 432x288 with 1 Axes>"
      ]
     },
     "metadata": {},
     "output_type": "display_data"
    },
    {
     "data": {
      "text/plain": [
       "<Figure size 1440x720 with 0 Axes>"
      ]
     },
     "metadata": {},
     "output_type": "display_data"
    }
   ],
   "source": [
    "# switch to a line plot\n",
    "plt.plot(life_exp_data['Year'].values, life_exp_data['Value'].values)\n",
    "\n",
    "# Label the axes\n",
    "plt.xlabel('Year')\n",
    "plt.ylabel(life_exp_data['IndicatorName'].iloc[0])\n",
    "\n",
    "#label the figure\n",
    "plt.title('Life Expectancy at birth, India')\n",
    "\n",
    "# to make more honest, start they y axis at 0\n",
    "plt.axis([1959,2014,20,100])\n",
    "plt.figure(figsize=(20,10))\n",
    "plt.show()"
   ]
  },
  {
   "cell_type": "markdown",
   "metadata": {},
   "source": [
    "<b>Lets plot a scatterplot to check the relationship between the GDP and Life expectancy.</b>"
   ]
  },
  {
   "cell_type": "markdown",
   "metadata": {},
   "source": [
    "We will merge the two dataframes GDP and Life expectancy into new dataframe country_data"
   ]
  },
  {
   "cell_type": "code",
   "execution_count": 385,
   "metadata": {},
   "outputs": [],
   "source": [
    "country_data = pd.merge(gdp_data,life_exp_data[['IndicatorName','Year','Value']], on='Year', how='inner')"
   ]
  },
  {
   "cell_type": "code",
   "execution_count": 499,
   "metadata": {},
   "outputs": [],
   "source": [
    "country_data = pd.merge(country_data, health_exp_data[['Year','Value']], on='Year', how='left')"
   ]
  },
  {
   "cell_type": "code",
   "execution_count": 522,
   "metadata": {},
   "outputs": [],
   "source": [
    "country_data=country_data.fillna(country_data['Value'].min())"
   ]
  },
  {
   "cell_type": "code",
   "execution_count": 523,
   "metadata": {},
   "outputs": [
    {
     "data": {
      "text/html": [
       "<div>\n",
       "<style scoped>\n",
       "    .dataframe tbody tr th:only-of-type {\n",
       "        vertical-align: middle;\n",
       "    }\n",
       "\n",
       "    .dataframe tbody tr th {\n",
       "        vertical-align: top;\n",
       "    }\n",
       "\n",
       "    .dataframe thead th {\n",
       "        text-align: right;\n",
       "    }\n",
       "</style>\n",
       "<table border=\"1\" class=\"dataframe\">\n",
       "  <thead>\n",
       "    <tr style=\"text-align: right;\">\n",
       "      <th></th>\n",
       "      <th>CountryName</th>\n",
       "      <th>CountryCode</th>\n",
       "      <th>IndicatorName_x</th>\n",
       "      <th>IndicatorCode</th>\n",
       "      <th>Year</th>\n",
       "      <th>Value_x</th>\n",
       "      <th>IndicatorName_y</th>\n",
       "      <th>Value_y</th>\n",
       "      <th>Value</th>\n",
       "    </tr>\n",
       "  </thead>\n",
       "  <tbody>\n",
       "    <tr>\n",
       "      <th>0</th>\n",
       "      <td>India</td>\n",
       "      <td>IND</td>\n",
       "      <td>GDP per capita (constant 2005 US$)</td>\n",
       "      <td>NY.GDP.PCAP.KD</td>\n",
       "      <td>1960</td>\n",
       "      <td>228.304470</td>\n",
       "      <td>Life expectancy at birth, total (years)</td>\n",
       "      <td>41.171951</td>\n",
       "      <td>62.693714</td>\n",
       "    </tr>\n",
       "    <tr>\n",
       "      <th>1</th>\n",
       "      <td>India</td>\n",
       "      <td>IND</td>\n",
       "      <td>GDP per capita (constant 2005 US$)</td>\n",
       "      <td>NY.GDP.PCAP.KD</td>\n",
       "      <td>1961</td>\n",
       "      <td>232.142053</td>\n",
       "      <td>Life expectancy at birth, total (years)</td>\n",
       "      <td>41.790488</td>\n",
       "      <td>62.693714</td>\n",
       "    </tr>\n",
       "    <tr>\n",
       "      <th>2</th>\n",
       "      <td>India</td>\n",
       "      <td>IND</td>\n",
       "      <td>GDP per capita (constant 2005 US$)</td>\n",
       "      <td>NY.GDP.PCAP.KD</td>\n",
       "      <td>1962</td>\n",
       "      <td>234.166685</td>\n",
       "      <td>Life expectancy at birth, total (years)</td>\n",
       "      <td>42.417415</td>\n",
       "      <td>62.693714</td>\n",
       "    </tr>\n",
       "    <tr>\n",
       "      <th>3</th>\n",
       "      <td>India</td>\n",
       "      <td>IND</td>\n",
       "      <td>GDP per capita (constant 2005 US$)</td>\n",
       "      <td>NY.GDP.PCAP.KD</td>\n",
       "      <td>1963</td>\n",
       "      <td>243.176418</td>\n",
       "      <td>Life expectancy at birth, total (years)</td>\n",
       "      <td>43.052732</td>\n",
       "      <td>62.693714</td>\n",
       "    </tr>\n",
       "    <tr>\n",
       "      <th>4</th>\n",
       "      <td>India</td>\n",
       "      <td>IND</td>\n",
       "      <td>GDP per capita (constant 2005 US$)</td>\n",
       "      <td>NY.GDP.PCAP.KD</td>\n",
       "      <td>1964</td>\n",
       "      <td>255.963668</td>\n",
       "      <td>Life expectancy at birth, total (years)</td>\n",
       "      <td>43.698415</td>\n",
       "      <td>62.693714</td>\n",
       "    </tr>\n",
       "  </tbody>\n",
       "</table>\n",
       "</div>"
      ],
      "text/plain": [
       "  CountryName CountryCode                     IndicatorName_x   IndicatorCode  \\\n",
       "0       India         IND  GDP per capita (constant 2005 US$)  NY.GDP.PCAP.KD   \n",
       "1       India         IND  GDP per capita (constant 2005 US$)  NY.GDP.PCAP.KD   \n",
       "2       India         IND  GDP per capita (constant 2005 US$)  NY.GDP.PCAP.KD   \n",
       "3       India         IND  GDP per capita (constant 2005 US$)  NY.GDP.PCAP.KD   \n",
       "4       India         IND  GDP per capita (constant 2005 US$)  NY.GDP.PCAP.KD   \n",
       "\n",
       "   Year     Value_x                          IndicatorName_y    Value_y  \\\n",
       "0  1960  228.304470  Life expectancy at birth, total (years)  41.171951   \n",
       "1  1961  232.142053  Life expectancy at birth, total (years)  41.790488   \n",
       "2  1962  234.166685  Life expectancy at birth, total (years)  42.417415   \n",
       "3  1963  243.176418  Life expectancy at birth, total (years)  43.052732   \n",
       "4  1964  255.963668  Life expectancy at birth, total (years)  43.698415   \n",
       "\n",
       "       Value  \n",
       "0  62.693714  \n",
       "1  62.693714  \n",
       "2  62.693714  \n",
       "3  62.693714  \n",
       "4  62.693714  "
      ]
     },
     "execution_count": 523,
     "metadata": {},
     "output_type": "execute_result"
    }
   ],
   "source": [
    "country_data.head()"
   ]
  },
  {
   "cell_type": "markdown",
   "metadata": {},
   "source": [
    "New column 'Value_y' having values for life expectancy merged with the gdp_data dataframe "
   ]
  },
  {
   "cell_type": "code",
   "execution_count": 550,
   "metadata": {},
   "outputs": [
    {
     "data": {
      "image/png": "[encoded data removed]",
      "text/plain": [
       "<Figure size 864x576 with 1 Axes>"
      ]
     },
     "metadata": {},
     "output_type": "display_data"
    }
   ],
   "source": [
    "fig, axis = plt.subplots(figsize=(12,8))\n",
    "# Grid lines, Xticks, Xlabel, Ylabel\n",
    "\n",
    "axis.yaxis.grid(True)\n",
    "axis.set_title('GDP Growth vs. Life Expectancy (India)',fontsize=10)\n",
    "axis.set_xlabel(country_data['IndicatorName_x'].iloc[0],fontsize=10)\n",
    "axis.set_ylabel(country_data['IndicatorName_y'].iloc[0],fontsize=10)\n",
    "axis.set_ylim(country_data['Value_y'].min()-20, 1.3*country_data['Value_y'].max())\n",
    "\n",
    "X = country_data['Value_x']\n",
    "Y = country_data['Value_y']\n",
    "S = country_data['Value']*3\n",
    "\n",
    "axis.scatter(X, Y, s=S,label='Health Expediture per capita',\n",
    "               alpha=0.8, color='yellow', edgecolors='Red')\n",
    "axis.legend(loc='lower right',prop={'weight':'roman','size':'medium'})\n",
    "\n",
    "plt.show()"
   ]
  },
  {
   "cell_type": "code",
   "execution_count": 528,
   "metadata": {},
   "outputs": [
    {
     "data": {
      "text/plain": [
       "array([[1.        , 0.84850089],\n",
       "       [0.84850089, 1.        ]])"
      ]
     },
     "execution_count": 528,
     "metadata": {},
     "output_type": "execute_result"
    }
   ],
   "source": [
    "np.corrcoef(country_data['Value_x'],country_data['Value_y'])"
   ]
  },
  {
   "cell_type": "code",
   "execution_count": 530,
   "metadata": {},
   "outputs": [
    {
     "data": {
      "text/html": [
       "<div>\n",
       "<style scoped>\n",
       "    .dataframe tbody tr th:only-of-type {\n",
       "        vertical-align: middle;\n",
       "    }\n",
       "\n",
       "    .dataframe tbody tr th {\n",
       "        vertical-align: top;\n",
       "    }\n",
       "\n",
       "    .dataframe thead th {\n",
       "        text-align: right;\n",
       "    }\n",
       "</style>\n",
       "<table border=\"1\" class=\"dataframe\">\n",
       "  <thead>\n",
       "    <tr style=\"text-align: right;\">\n",
       "      <th></th>\n",
       "      <th>Value_x</th>\n",
       "      <th>Value_y</th>\n",
       "      <th>Value</th>\n",
       "    </tr>\n",
       "  </thead>\n",
       "  <tbody>\n",
       "    <tr>\n",
       "      <th>Value_x</th>\n",
       "      <td>1.000000</td>\n",
       "      <td>0.848501</td>\n",
       "      <td>0.963184</td>\n",
       "    </tr>\n",
       "    <tr>\n",
       "      <th>Value_y</th>\n",
       "      <td>0.848501</td>\n",
       "      <td>1.000000</td>\n",
       "      <td>0.698013</td>\n",
       "    </tr>\n",
       "    <tr>\n",
       "      <th>Value</th>\n",
       "      <td>0.963184</td>\n",
       "      <td>0.698013</td>\n",
       "      <td>1.000000</td>\n",
       "    </tr>\n",
       "  </tbody>\n",
       "</table>\n",
       "</div>"
      ],
      "text/plain": [
       "          Value_x   Value_y     Value\n",
       "Value_x  1.000000  0.848501  0.963184\n",
       "Value_y  0.848501  1.000000  0.698013\n",
       "Value    0.963184  0.698013  1.000000"
      ]
     },
     "execution_count": 530,
     "metadata": {},
     "output_type": "execute_result"
    }
   ],
   "source": [
    "country_data[['Value_x','Value_y','Value']].corr()"
   ]
  },
  {
   "cell_type": "markdown",
   "metadata": {},
   "source": [
    "<b>Scatterplot and correlation value of 0.85 clearly shows there is strong relationship between the GDP growth and Life expectancy. With the growth in GDP, life expectancy have increased over the years in India. Lets apply this finding to other countries in our dataset.</b>"
   ]
  },
  {
   "cell_type": "code",
   "execution_count": 391,
   "metadata": {},
   "outputs": [],
   "source": [
    "world_gdp_data = data[mask2]\n",
    "world_life_exp_data = data[mask4]"
   ]
  },
  {
   "cell_type": "code",
   "execution_count": 450,
   "metadata": {},
   "outputs": [
    {
     "data": {
      "text/html": [
       "<div>\n",
       "<style scoped>\n",
       "    .dataframe tbody tr th:only-of-type {\n",
       "        vertical-align: middle;\n",
       "    }\n",
       "\n",
       "    .dataframe tbody tr th {\n",
       "        vertical-align: top;\n",
       "    }\n",
       "\n",
       "    .dataframe thead th {\n",
       "        text-align: right;\n",
       "    }\n",
       "</style>\n",
       "<table border=\"1\" class=\"dataframe\">\n",
       "  <thead>\n",
       "    <tr style=\"text-align: right;\">\n",
       "      <th></th>\n",
       "      <th>CountryName</th>\n",
       "      <th>CountryCode</th>\n",
       "      <th>IndicatorName</th>\n",
       "      <th>IndicatorCode</th>\n",
       "      <th>Year</th>\n",
       "      <th>Value</th>\n",
       "    </tr>\n",
       "  </thead>\n",
       "  <tbody>\n",
       "    <tr>\n",
       "      <th>263</th>\n",
       "      <td>East Asia &amp; Pacific (all income levels)</td>\n",
       "      <td>EAS</td>\n",
       "      <td>GDP per capita (constant 2005 US$)</td>\n",
       "      <td>NY.GDP.PCAP.KD</td>\n",
       "      <td>1960</td>\n",
       "      <td>982.026842</td>\n",
       "    </tr>\n",
       "    <tr>\n",
       "      <th>376</th>\n",
       "      <td>East Asia &amp; Pacific (developing only)</td>\n",
       "      <td>EAP</td>\n",
       "      <td>GDP per capita (constant 2005 US$)</td>\n",
       "      <td>NY.GDP.PCAP.KD</td>\n",
       "      <td>1960</td>\n",
       "      <td>168.600612</td>\n",
       "    </tr>\n",
       "    <tr>\n",
       "      <th>517</th>\n",
       "      <td>Euro area</td>\n",
       "      <td>EMU</td>\n",
       "      <td>GDP per capita (constant 2005 US$)</td>\n",
       "      <td>NY.GDP.PCAP.KD</td>\n",
       "      <td>1960</td>\n",
       "      <td>9388.717505</td>\n",
       "    </tr>\n",
       "    <tr>\n",
       "      <th>623</th>\n",
       "      <td>Europe &amp; Central Asia (all income levels)</td>\n",
       "      <td>ECS</td>\n",
       "      <td>GDP per capita (constant 2005 US$)</td>\n",
       "      <td>NY.GDP.PCAP.KD</td>\n",
       "      <td>1960</td>\n",
       "      <td>6547.964873</td>\n",
       "    </tr>\n",
       "    <tr>\n",
       "      <th>835</th>\n",
       "      <td>European Union</td>\n",
       "      <td>EUU</td>\n",
       "      <td>GDP per capita (constant 2005 US$)</td>\n",
       "      <td>NY.GDP.PCAP.KD</td>\n",
       "      <td>1960</td>\n",
       "      <td>8997.466960</td>\n",
       "    </tr>\n",
       "  </tbody>\n",
       "</table>\n",
       "</div>"
      ],
      "text/plain": [
       "                                   CountryName CountryCode  \\\n",
       "263    East Asia & Pacific (all income levels)         EAS   \n",
       "376      East Asia & Pacific (developing only)         EAP   \n",
       "517                                  Euro area         EMU   \n",
       "623  Europe & Central Asia (all income levels)         ECS   \n",
       "835                             European Union         EUU   \n",
       "\n",
       "                          IndicatorName   IndicatorCode  Year        Value  \n",
       "263  GDP per capita (constant 2005 US$)  NY.GDP.PCAP.KD  1960   982.026842  \n",
       "376  GDP per capita (constant 2005 US$)  NY.GDP.PCAP.KD  1960   168.600612  \n",
       "517  GDP per capita (constant 2005 US$)  NY.GDP.PCAP.KD  1960  9388.717505  \n",
       "623  GDP per capita (constant 2005 US$)  NY.GDP.PCAP.KD  1960  6547.964873  \n",
       "835  GDP per capita (constant 2005 US$)  NY.GDP.PCAP.KD  1960  8997.466960  "
      ]
     },
     "execution_count": 450,
     "metadata": {},
     "output_type": "execute_result"
    }
   ],
   "source": [
    "world_gdp_data.head()"
   ]
  },
  {
   "cell_type": "code",
   "execution_count": 497,
   "metadata": {},
   "outputs": [
    {
     "data": {
      "text/plain": [
       "['Consumer price index (2010 = 100)',\n",
       " 'Wholesale price index (2010 = 100)',\n",
       " 'Crop production index (2004-2006 = 100)',\n",
       " 'Food production index (2004-2006 = 100)',\n",
       " 'Livestock production index (2004-2006 = 100)',\n",
       " 'Gross enrolment ratio, primary and secondary, gender parity index (GPI)',\n",
       " 'Gross enrolment ratio, primary, gender parity index (GPI)',\n",
       " 'Gross enrolment ratio, secondary, gender parity index (GPI)',\n",
       " 'Gross enrolment ratio, tertiary, gender parity index (GPI)',\n",
       " 'Real effective exchange rate index (2010 = 100)',\n",
       " 'Youth literacy rate, population 15-24 years, gender parity index (GPI)',\n",
       " 'Export value index (2000 = 100)',\n",
       " 'Import value index (2000 = 100)',\n",
       " 'Export volume index (2000 = 100)',\n",
       " 'Import volume index (2000 = 100)',\n",
       " 'Net barter terms of trade index (2000 = 100)',\n",
       " 'GINI index (World Bank estimate)',\n",
       " 'Liner shipping connectivity index (maximum value in 2004 = 100)',\n",
       " 'Business extent of disclosure index (0=less disclosure to 10=more disclosure)',\n",
       " 'IDA resource allocation index (1=low to 6=high)',\n",
       " 'GEF benefits index for biodiversity (0 = no biodiversity potential to 100 = maximum)',\n",
       " 'Logistics performance index: Ability to track and trace consignments (1=low to 5=high)',\n",
       " 'Logistics performance index: Competence and quality of logistics services (1=low to 5=high)',\n",
       " 'Logistics performance index: Ease of arranging competitively priced shipments (1=low to 5=high)',\n",
       " 'Logistics performance index: Efficiency of customs clearance process (1=low to 5=high)',\n",
       " 'Logistics performance index: Frequency with which shipments reach consignee within scheduled or expected time (1=low to 5=high)',\n",
       " 'Logistics performance index: Overall (1=low to 5=high)',\n",
       " 'Logistics performance index: Quality of trade and transport-related infrastructure (1=low to 5=high)',\n",
       " 'Depth of credit information index (0=low to 8=high)',\n",
       " 'Strength of legal rights index (0=weak to 12=strong)',\n",
       " 'Ease of doing business index (1=most business-friendly regulations)']"
      ]
     },
     "execution_count": 497,
     "metadata": {},
     "output_type": "execute_result"
    }
   ],
   "source": [
    "matching = [ind for ind in indicators if 'index' in ind]\n",
    "matching"
   ]
  },
  {
   "cell_type": "code",
   "execution_count": null,
   "metadata": {},
   "outputs": [],
   "source": []
  }
 ],
 "metadata": {
  "kernelspec": {
   "display_name": "Python 3",
   "language": "python",
   "name": "python3"
  },
  "language_info": {
   "codemirror_mode": {
    "name": "ipython",
    "version": 3
   },
   "file_extension": ".py",
   "mimetype": "text/x-python",
   "name": "python",
   "nbconvert_exporter": "python",
   "pygments_lexer": "ipython3",
   "version": "3.6.5"
  }
 },
 "nbformat": 4,
 "nbformat_minor": 2
}
