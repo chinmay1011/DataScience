{
 "cells": [
  {
   "cell_type": "code",
   "execution_count": 1,
   "metadata": {},
   "outputs": [],
   "source": [
    "#Step 1: Initial exploration of the Dataset"
   ]
  },
  {
   "cell_type": "code",
   "execution_count": 2,
   "metadata": {},
   "outputs": [],
   "source": [
    "import pandas as pd\n",
    "import numpy as np\n",
    "import random\n",
    "import matplotlib.pyplot as plt"
   ]
  },
  {
   "cell_type": "code",
   "execution_count": 3,
   "metadata": {},
   "outputs": [
    {
     "data": {
      "text/plain": [
       "(5656458, 6)"
      ]
     },
     "execution_count": 3,
     "metadata": {},
     "output_type": "execute_result"
    }
   ],
   "source": [
    "data = pd.read_csv('./world-development-indicators/Indicators.csv')\n",
    "data.shape"
   ]
  },
  {
   "cell_type": "code",
   "execution_count": 4,
   "metadata": {},
   "outputs": [
    {
     "data": {
      "text/plain": [
       "1344"
      ]
     },
     "execution_count": 4,
     "metadata": {},
     "output_type": "execute_result"
    }
   ],
   "source": [
    "# How many unique indicators are there ? (should be the same #)\n",
    "indicators = data['IndicatorName'].unique().tolist()\n",
    "len(indicators)"
   ]
  },
  {
   "attachments": {},
   "cell_type": "markdown",
   "metadata": {},
   "source": [
    "<b>Lets explore current health expenditure of India compared to other developing countries like China.</b>"
   ]
  },
  {
   "cell_type": "code",
   "execution_count": 9,
   "metadata": {},
   "outputs": [],
   "source": [
    "health_filter='Health expenditure, total \\(\\% of GDP\\)'\n",
    "india_code = 'IND'\n",
    "china_code = 'CHN'\n",
    "\n",
    "\n",
    "india_mask = data['CountryCode'].str.contains(india_code)\n",
    "china_mask = data['CountryCode'].str.contains(china_code)\n",
    "health_mask = data['IndicatorName'].str.contains(health_filter)\n",
    "\n",
    "india_health_exp = data[india_mask & health_mask]\n",
    "china_health_exp = data[china_mask & health_mask]"
   ]
  },
  {
   "cell_type": "code",
   "execution_count": 14,
   "metadata": {},
   "outputs": [
    {
     "data": {
      "text/html": [
       "<div>\n",
       "<style scoped>\n",
       "    .dataframe tbody tr th:only-of-type {\n",
       "        vertical-align: middle;\n",
       "    }\n",
       "\n",
       "    .dataframe tbody tr th {\n",
       "        vertical-align: top;\n",
       "    }\n",
       "\n",
       "    .dataframe thead th {\n",
       "        text-align: right;\n",
       "    }\n",
       "</style>\n",
       "<table border=\"1\" class=\"dataframe\">\n",
       "  <thead>\n",
       "    <tr style=\"text-align: right;\">\n",
       "      <th></th>\n",
       "      <th>CountryName</th>\n",
       "      <th>CountryCode</th>\n",
       "      <th>IndicatorName</th>\n",
       "      <th>IndicatorCode</th>\n",
       "      <th>Year</th>\n",
       "      <th>Value</th>\n",
       "    </tr>\n",
       "  </thead>\n",
       "  <tbody>\n",
       "    <tr>\n",
       "      <th>2550719</th>\n",
       "      <td>India</td>\n",
       "      <td>IND</td>\n",
       "      <td>Health expenditure, total (% of GDP)</td>\n",
       "      <td>SH.XPD.TOTL.ZS</td>\n",
       "      <td>1995</td>\n",
       "      <td>4.064824</td>\n",
       "    </tr>\n",
       "    <tr>\n",
       "      <th>2685740</th>\n",
       "      <td>India</td>\n",
       "      <td>IND</td>\n",
       "      <td>Health expenditure, total (% of GDP)</td>\n",
       "      <td>SH.XPD.TOTL.ZS</td>\n",
       "      <td>1996</td>\n",
       "      <td>3.942175</td>\n",
       "    </tr>\n",
       "    <tr>\n",
       "      <th>2821173</th>\n",
       "      <td>India</td>\n",
       "      <td>IND</td>\n",
       "      <td>Health expenditure, total (% of GDP)</td>\n",
       "      <td>SH.XPD.TOTL.ZS</td>\n",
       "      <td>1997</td>\n",
       "      <td>4.294396</td>\n",
       "    </tr>\n",
       "    <tr>\n",
       "      <th>2958149</th>\n",
       "      <td>India</td>\n",
       "      <td>IND</td>\n",
       "      <td>Health expenditure, total (% of GDP)</td>\n",
       "      <td>SH.XPD.TOTL.ZS</td>\n",
       "      <td>1998</td>\n",
       "      <td>4.343979</td>\n",
       "    </tr>\n",
       "    <tr>\n",
       "      <th>3097445</th>\n",
       "      <td>India</td>\n",
       "      <td>IND</td>\n",
       "      <td>Health expenditure, total (% of GDP)</td>\n",
       "      <td>SH.XPD.TOTL.ZS</td>\n",
       "      <td>1999</td>\n",
       "      <td>4.075596</td>\n",
       "    </tr>\n",
       "    <tr>\n",
       "      <th>3245806</th>\n",
       "      <td>India</td>\n",
       "      <td>IND</td>\n",
       "      <td>Health expenditure, total (% of GDP)</td>\n",
       "      <td>SH.XPD.TOTL.ZS</td>\n",
       "      <td>2000</td>\n",
       "      <td>4.314108</td>\n",
       "    </tr>\n",
       "    <tr>\n",
       "      <th>3398139</th>\n",
       "      <td>India</td>\n",
       "      <td>IND</td>\n",
       "      <td>Health expenditure, total (% of GDP)</td>\n",
       "      <td>SH.XPD.TOTL.ZS</td>\n",
       "      <td>2001</td>\n",
       "      <td>4.546835</td>\n",
       "    </tr>\n",
       "    <tr>\n",
       "      <th>3550764</th>\n",
       "      <td>India</td>\n",
       "      <td>IND</td>\n",
       "      <td>Health expenditure, total (% of GDP)</td>\n",
       "      <td>SH.XPD.TOTL.ZS</td>\n",
       "      <td>2002</td>\n",
       "      <td>4.454388</td>\n",
       "    </tr>\n",
       "    <tr>\n",
       "      <th>3705004</th>\n",
       "      <td>India</td>\n",
       "      <td>IND</td>\n",
       "      <td>Health expenditure, total (% of GDP)</td>\n",
       "      <td>SH.XPD.TOTL.ZS</td>\n",
       "      <td>2003</td>\n",
       "      <td>4.350801</td>\n",
       "    </tr>\n",
       "    <tr>\n",
       "      <th>3860366</th>\n",
       "      <td>India</td>\n",
       "      <td>IND</td>\n",
       "      <td>Health expenditure, total (% of GDP)</td>\n",
       "      <td>SH.XPD.TOTL.ZS</td>\n",
       "      <td>2004</td>\n",
       "      <td>4.561793</td>\n",
       "    </tr>\n",
       "    <tr>\n",
       "      <th>4029881</th>\n",
       "      <td>India</td>\n",
       "      <td>IND</td>\n",
       "      <td>Health expenditure, total (% of GDP)</td>\n",
       "      <td>SH.XPD.TOTL.ZS</td>\n",
       "      <td>2005</td>\n",
       "      <td>4.307127</td>\n",
       "    </tr>\n",
       "    <tr>\n",
       "      <th>4208428</th>\n",
       "      <td>India</td>\n",
       "      <td>IND</td>\n",
       "      <td>Health expenditure, total (% of GDP)</td>\n",
       "      <td>SH.XPD.TOTL.ZS</td>\n",
       "      <td>2006</td>\n",
       "      <td>4.085378</td>\n",
       "    </tr>\n",
       "    <tr>\n",
       "      <th>4387273</th>\n",
       "      <td>India</td>\n",
       "      <td>IND</td>\n",
       "      <td>Health expenditure, total (% of GDP)</td>\n",
       "      <td>SH.XPD.TOTL.ZS</td>\n",
       "      <td>2007</td>\n",
       "      <td>3.940753</td>\n",
       "    </tr>\n",
       "    <tr>\n",
       "      <th>4567586</th>\n",
       "      <td>India</td>\n",
       "      <td>IND</td>\n",
       "      <td>Health expenditure, total (% of GDP)</td>\n",
       "      <td>SH.XPD.TOTL.ZS</td>\n",
       "      <td>2008</td>\n",
       "      <td>3.991911</td>\n",
       "    </tr>\n",
       "    <tr>\n",
       "      <th>4746720</th>\n",
       "      <td>India</td>\n",
       "      <td>IND</td>\n",
       "      <td>Health expenditure, total (% of GDP)</td>\n",
       "      <td>SH.XPD.TOTL.ZS</td>\n",
       "      <td>2009</td>\n",
       "      <td>4.053157</td>\n",
       "    </tr>\n",
       "    <tr>\n",
       "      <th>4929535</th>\n",
       "      <td>India</td>\n",
       "      <td>IND</td>\n",
       "      <td>Health expenditure, total (% of GDP)</td>\n",
       "      <td>SH.XPD.TOTL.ZS</td>\n",
       "      <td>2010</td>\n",
       "      <td>3.824004</td>\n",
       "    </tr>\n",
       "    <tr>\n",
       "      <th>5111336</th>\n",
       "      <td>India</td>\n",
       "      <td>IND</td>\n",
       "      <td>Health expenditure, total (% of GDP)</td>\n",
       "      <td>SH.XPD.TOTL.ZS</td>\n",
       "      <td>2011</td>\n",
       "      <td>3.829788</td>\n",
       "    </tr>\n",
       "    <tr>\n",
       "      <th>5287013</th>\n",
       "      <td>India</td>\n",
       "      <td>IND</td>\n",
       "      <td>Health expenditure, total (% of GDP)</td>\n",
       "      <td>SH.XPD.TOTL.ZS</td>\n",
       "      <td>2012</td>\n",
       "      <td>3.806117</td>\n",
       "    </tr>\n",
       "    <tr>\n",
       "      <th>5453181</th>\n",
       "      <td>India</td>\n",
       "      <td>IND</td>\n",
       "      <td>Health expenditure, total (% of GDP)</td>\n",
       "      <td>SH.XPD.TOTL.ZS</td>\n",
       "      <td>2013</td>\n",
       "      <td>3.967993</td>\n",
       "    </tr>\n",
       "  </tbody>\n",
       "</table>\n",
       "</div>"
      ],
      "text/plain": [
       "        CountryName CountryCode                         IndicatorName  \\\n",
       "2550719       India         IND  Health expenditure, total (% of GDP)   \n",
       "2685740       India         IND  Health expenditure, total (% of GDP)   \n",
       "2821173       India         IND  Health expenditure, total (% of GDP)   \n",
       "2958149       India         IND  Health expenditure, total (% of GDP)   \n",
       "3097445       India         IND  Health expenditure, total (% of GDP)   \n",
       "3245806       India         IND  Health expenditure, total (% of GDP)   \n",
       "3398139       India         IND  Health expenditure, total (% of GDP)   \n",
       "3550764       India         IND  Health expenditure, total (% of GDP)   \n",
       "3705004       India         IND  Health expenditure, total (% of GDP)   \n",
       "3860366       India         IND  Health expenditure, total (% of GDP)   \n",
       "4029881       India         IND  Health expenditure, total (% of GDP)   \n",
       "4208428       India         IND  Health expenditure, total (% of GDP)   \n",
       "4387273       India         IND  Health expenditure, total (% of GDP)   \n",
       "4567586       India         IND  Health expenditure, total (% of GDP)   \n",
       "4746720       India         IND  Health expenditure, total (% of GDP)   \n",
       "4929535       India         IND  Health expenditure, total (% of GDP)   \n",
       "5111336       India         IND  Health expenditure, total (% of GDP)   \n",
       "5287013       India         IND  Health expenditure, total (% of GDP)   \n",
       "5453181       India         IND  Health expenditure, total (% of GDP)   \n",
       "\n",
       "          IndicatorCode  Year     Value  \n",
       "2550719  SH.XPD.TOTL.ZS  1995  4.064824  \n",
       "2685740  SH.XPD.TOTL.ZS  1996  3.942175  \n",
       "2821173  SH.XPD.TOTL.ZS  1997  4.294396  \n",
       "2958149  SH.XPD.TOTL.ZS  1998  4.343979  \n",
       "3097445  SH.XPD.TOTL.ZS  1999  4.075596  \n",
       "3245806  SH.XPD.TOTL.ZS  2000  4.314108  \n",
       "3398139  SH.XPD.TOTL.ZS  2001  4.546835  \n",
       "3550764  SH.XPD.TOTL.ZS  2002  4.454388  \n",
       "3705004  SH.XPD.TOTL.ZS  2003  4.350801  \n",
       "3860366  SH.XPD.TOTL.ZS  2004  4.561793  \n",
       "4029881  SH.XPD.TOTL.ZS  2005  4.307127  \n",
       "4208428  SH.XPD.TOTL.ZS  2006  4.085378  \n",
       "4387273  SH.XPD.TOTL.ZS  2007  3.940753  \n",
       "4567586  SH.XPD.TOTL.ZS  2008  3.991911  \n",
       "4746720  SH.XPD.TOTL.ZS  2009  4.053157  \n",
       "4929535  SH.XPD.TOTL.ZS  2010  3.824004  \n",
       "5111336  SH.XPD.TOTL.ZS  2011  3.829788  \n",
       "5287013  SH.XPD.TOTL.ZS  2012  3.806117  \n",
       "5453181  SH.XPD.TOTL.ZS  2013  3.967993  "
      ]
     },
     "execution_count": 14,
     "metadata": {},
     "output_type": "execute_result"
    }
   ],
   "source": [
    "india_health_exp.head(20)"
   ]
  },
  {
   "cell_type": "code",
   "execution_count": 31,
   "metadata": {},
   "outputs": [
    {
     "data": {
      "text/html": [
       "<div>\n",
       "<style scoped>\n",
       "    .dataframe tbody tr th:only-of-type {\n",
       "        vertical-align: middle;\n",
       "    }\n",
       "\n",
       "    .dataframe tbody tr th {\n",
       "        vertical-align: top;\n",
       "    }\n",
       "\n",
       "    .dataframe thead th {\n",
       "        text-align: right;\n",
       "    }\n",
       "</style>\n",
       "<table border=\"1\" class=\"dataframe\">\n",
       "  <thead>\n",
       "    <tr style=\"text-align: right;\">\n",
       "      <th></th>\n",
       "      <th>CountryName</th>\n",
       "      <th>CountryCode</th>\n",
       "      <th>IndicatorName</th>\n",
       "      <th>IndicatorCode</th>\n",
       "      <th>Year</th>\n",
       "      <th>Value</th>\n",
       "    </tr>\n",
       "  </thead>\n",
       "  <tbody>\n",
       "    <tr>\n",
       "      <th>2523687</th>\n",
       "      <td>China</td>\n",
       "      <td>CHN</td>\n",
       "      <td>Health expenditure, total (% of GDP)</td>\n",
       "      <td>SH.XPD.TOTL.ZS</td>\n",
       "      <td>1995</td>\n",
       "      <td>3.544976</td>\n",
       "    </tr>\n",
       "    <tr>\n",
       "      <th>2658660</th>\n",
       "      <td>China</td>\n",
       "      <td>CHN</td>\n",
       "      <td>Health expenditure, total (% of GDP)</td>\n",
       "      <td>SH.XPD.TOTL.ZS</td>\n",
       "      <td>1996</td>\n",
       "      <td>3.806619</td>\n",
       "    </tr>\n",
       "    <tr>\n",
       "      <th>2794266</th>\n",
       "      <td>China</td>\n",
       "      <td>CHN</td>\n",
       "      <td>Health expenditure, total (% of GDP)</td>\n",
       "      <td>SH.XPD.TOTL.ZS</td>\n",
       "      <td>1997</td>\n",
       "      <td>4.047860</td>\n",
       "    </tr>\n",
       "    <tr>\n",
       "      <th>2930960</th>\n",
       "      <td>China</td>\n",
       "      <td>CHN</td>\n",
       "      <td>Health expenditure, total (% of GDP)</td>\n",
       "      <td>SH.XPD.TOTL.ZS</td>\n",
       "      <td>1998</td>\n",
       "      <td>4.358571</td>\n",
       "    </tr>\n",
       "    <tr>\n",
       "      <th>3069205</th>\n",
       "      <td>China</td>\n",
       "      <td>CHN</td>\n",
       "      <td>Health expenditure, total (% of GDP)</td>\n",
       "      <td>SH.XPD.TOTL.ZS</td>\n",
       "      <td>1999</td>\n",
       "      <td>4.513426</td>\n",
       "    </tr>\n",
       "    <tr>\n",
       "      <th>3215461</th>\n",
       "      <td>China</td>\n",
       "      <td>CHN</td>\n",
       "      <td>Health expenditure, total (% of GDP)</td>\n",
       "      <td>SH.XPD.TOTL.ZS</td>\n",
       "      <td>2000</td>\n",
       "      <td>4.622937</td>\n",
       "    </tr>\n",
       "    <tr>\n",
       "      <th>3368744</th>\n",
       "      <td>China</td>\n",
       "      <td>CHN</td>\n",
       "      <td>Health expenditure, total (% of GDP)</td>\n",
       "      <td>SH.XPD.TOTL.ZS</td>\n",
       "      <td>2001</td>\n",
       "      <td>4.583395</td>\n",
       "    </tr>\n",
       "    <tr>\n",
       "      <th>3520209</th>\n",
       "      <td>China</td>\n",
       "      <td>CHN</td>\n",
       "      <td>Health expenditure, total (% of GDP)</td>\n",
       "      <td>SH.XPD.TOTL.ZS</td>\n",
       "      <td>2002</td>\n",
       "      <td>4.811688</td>\n",
       "    </tr>\n",
       "    <tr>\n",
       "      <th>3675129</th>\n",
       "      <td>China</td>\n",
       "      <td>CHN</td>\n",
       "      <td>Health expenditure, total (% of GDP)</td>\n",
       "      <td>SH.XPD.TOTL.ZS</td>\n",
       "      <td>2003</td>\n",
       "      <td>4.847566</td>\n",
       "    </tr>\n",
       "    <tr>\n",
       "      <th>3829429</th>\n",
       "      <td>China</td>\n",
       "      <td>CHN</td>\n",
       "      <td>Health expenditure, total (% of GDP)</td>\n",
       "      <td>SH.XPD.TOTL.ZS</td>\n",
       "      <td>2004</td>\n",
       "      <td>4.747541</td>\n",
       "    </tr>\n",
       "    <tr>\n",
       "      <th>3994434</th>\n",
       "      <td>China</td>\n",
       "      <td>CHN</td>\n",
       "      <td>Health expenditure, total (% of GDP)</td>\n",
       "      <td>SH.XPD.TOTL.ZS</td>\n",
       "      <td>2005</td>\n",
       "      <td>4.682612</td>\n",
       "    </tr>\n",
       "    <tr>\n",
       "      <th>4174223</th>\n",
       "      <td>China</td>\n",
       "      <td>CHN</td>\n",
       "      <td>Health expenditure, total (% of GDP)</td>\n",
       "      <td>SH.XPD.TOTL.ZS</td>\n",
       "      <td>2006</td>\n",
       "      <td>4.550478</td>\n",
       "    </tr>\n",
       "    <tr>\n",
       "      <th>4352416</th>\n",
       "      <td>China</td>\n",
       "      <td>CHN</td>\n",
       "      <td>Health expenditure, total (% of GDP)</td>\n",
       "      <td>SH.XPD.TOTL.ZS</td>\n",
       "      <td>2007</td>\n",
       "      <td>4.354222</td>\n",
       "    </tr>\n",
       "    <tr>\n",
       "      <th>4532834</th>\n",
       "      <td>China</td>\n",
       "      <td>CHN</td>\n",
       "      <td>Health expenditure, total (% of GDP)</td>\n",
       "      <td>SH.XPD.TOTL.ZS</td>\n",
       "      <td>2008</td>\n",
       "      <td>4.628598</td>\n",
       "    </tr>\n",
       "    <tr>\n",
       "      <th>4712383</th>\n",
       "      <td>China</td>\n",
       "      <td>CHN</td>\n",
       "      <td>Health expenditure, total (% of GDP)</td>\n",
       "      <td>SH.XPD.TOTL.ZS</td>\n",
       "      <td>2009</td>\n",
       "      <td>5.145722</td>\n",
       "    </tr>\n",
       "    <tr>\n",
       "      <th>4893608</th>\n",
       "      <td>China</td>\n",
       "      <td>CHN</td>\n",
       "      <td>Health expenditure, total (% of GDP)</td>\n",
       "      <td>SH.XPD.TOTL.ZS</td>\n",
       "      <td>2010</td>\n",
       "      <td>4.976277</td>\n",
       "    </tr>\n",
       "    <tr>\n",
       "      <th>5077193</th>\n",
       "      <td>China</td>\n",
       "      <td>CHN</td>\n",
       "      <td>Health expenditure, total (% of GDP)</td>\n",
       "      <td>SH.XPD.TOTL.ZS</td>\n",
       "      <td>2011</td>\n",
       "      <td>5.145995</td>\n",
       "    </tr>\n",
       "    <tr>\n",
       "      <th>5252940</th>\n",
       "      <td>China</td>\n",
       "      <td>CHN</td>\n",
       "      <td>Health expenditure, total (% of GDP)</td>\n",
       "      <td>SH.XPD.TOTL.ZS</td>\n",
       "      <td>2012</td>\n",
       "      <td>5.413016</td>\n",
       "    </tr>\n",
       "    <tr>\n",
       "      <th>5422999</th>\n",
       "      <td>China</td>\n",
       "      <td>CHN</td>\n",
       "      <td>Health expenditure, total (% of GDP)</td>\n",
       "      <td>SH.XPD.TOTL.ZS</td>\n",
       "      <td>2013</td>\n",
       "      <td>5.567502</td>\n",
       "    </tr>\n",
       "  </tbody>\n",
       "</table>\n",
       "</div>"
      ],
      "text/plain": [
       "        CountryName CountryCode                         IndicatorName  \\\n",
       "2523687       China         CHN  Health expenditure, total (% of GDP)   \n",
       "2658660       China         CHN  Health expenditure, total (% of GDP)   \n",
       "2794266       China         CHN  Health expenditure, total (% of GDP)   \n",
       "2930960       China         CHN  Health expenditure, total (% of GDP)   \n",
       "3069205       China         CHN  Health expenditure, total (% of GDP)   \n",
       "3215461       China         CHN  Health expenditure, total (% of GDP)   \n",
       "3368744       China         CHN  Health expenditure, total (% of GDP)   \n",
       "3520209       China         CHN  Health expenditure, total (% of GDP)   \n",
       "3675129       China         CHN  Health expenditure, total (% of GDP)   \n",
       "3829429       China         CHN  Health expenditure, total (% of GDP)   \n",
       "3994434       China         CHN  Health expenditure, total (% of GDP)   \n",
       "4174223       China         CHN  Health expenditure, total (% of GDP)   \n",
       "4352416       China         CHN  Health expenditure, total (% of GDP)   \n",
       "4532834       China         CHN  Health expenditure, total (% of GDP)   \n",
       "4712383       China         CHN  Health expenditure, total (% of GDP)   \n",
       "4893608       China         CHN  Health expenditure, total (% of GDP)   \n",
       "5077193       China         CHN  Health expenditure, total (% of GDP)   \n",
       "5252940       China         CHN  Health expenditure, total (% of GDP)   \n",
       "5422999       China         CHN  Health expenditure, total (% of GDP)   \n",
       "\n",
       "          IndicatorCode  Year     Value  \n",
       "2523687  SH.XPD.TOTL.ZS  1995  3.544976  \n",
       "2658660  SH.XPD.TOTL.ZS  1996  3.806619  \n",
       "2794266  SH.XPD.TOTL.ZS  1997  4.047860  \n",
       "2930960  SH.XPD.TOTL.ZS  1998  4.358571  \n",
       "3069205  SH.XPD.TOTL.ZS  1999  4.513426  \n",
       "3215461  SH.XPD.TOTL.ZS  2000  4.622937  \n",
       "3368744  SH.XPD.TOTL.ZS  2001  4.583395  \n",
       "3520209  SH.XPD.TOTL.ZS  2002  4.811688  \n",
       "3675129  SH.XPD.TOTL.ZS  2003  4.847566  \n",
       "3829429  SH.XPD.TOTL.ZS  2004  4.747541  \n",
       "3994434  SH.XPD.TOTL.ZS  2005  4.682612  \n",
       "4174223  SH.XPD.TOTL.ZS  2006  4.550478  \n",
       "4352416  SH.XPD.TOTL.ZS  2007  4.354222  \n",
       "4532834  SH.XPD.TOTL.ZS  2008  4.628598  \n",
       "4712383  SH.XPD.TOTL.ZS  2009  5.145722  \n",
       "4893608  SH.XPD.TOTL.ZS  2010  4.976277  \n",
       "5077193  SH.XPD.TOTL.ZS  2011  5.145995  \n",
       "5252940  SH.XPD.TOTL.ZS  2012  5.413016  \n",
       "5422999  SH.XPD.TOTL.ZS  2013  5.567502  "
      ]
     },
     "execution_count": 31,
     "metadata": {},
     "output_type": "execute_result"
    }
   ],
   "source": [
    "china_health_exp.head(20)"
   ]
  },
  {
   "cell_type": "markdown",
   "metadata": {},
   "source": [
    "Lets plot these dataframe together on line plot to explore it better"
   ]
  },
  {
   "cell_type": "code",
   "execution_count": 30,
   "metadata": {},
   "outputs": [
    {
     "data": {
      "image/png": "[encoded data removed]",
      "text/plain": [
       "<Figure size 864x576 with 1 Axes>"
      ]
     },
     "metadata": {},
     "output_type": "display_data"
    }
   ],
   "source": [
    "fig,ax = plt.subplots(figsize=(12,8))\n",
    "line1, = ax.plot(india_health_exp['Year'].values, india_health_exp['Value'].values, label=\"India\")\n",
    "line2, = ax.plot(china_health_exp['Year'].values, china_health_exp['Value'].values, label=\"China\")\n",
    "\n",
    "ax.set_xlabel('Year', fontsize='12')\n",
    "ax.set_ylabel(india_health_exp['IndicatorName'].iloc[0], fontsize='12')\n",
    "ax.set_title('Health Expenditure comparison between India and China',fontsize='15')\n",
    "ax.legend(handles=[line1, line2], loc='upper left', fontsize='14')\n",
    "ax.set_ylim([0,10])\n",
    "ax.set_xlim([india_health_exp['Year'].min(),india_health_exp['Year'].max()])\n",
    "plt.show()"
   ]
  },
  {
   "cell_type": "markdown",
   "metadata": {},
   "source": [
    "In 1995, India's health expenditure(% GDP) was 4.06% compared to China's 3.5% but India's health expenditure have rather decreased over the years with 3.9% in 2013 compared to China's 5.56%."
   ]
  },
  {
   "cell_type": "markdown",
   "metadata": {},
   "source": [
    "<b>Lets explore the GDP per capita data for India</b>"
   ]
  },
  {
   "cell_type": "code",
   "execution_count": 347,
   "metadata": {},
   "outputs": [],
   "source": [
    "gdp_filter = 'GDP per capita \\(constant 2005'\n",
    "country_filter = 'IND'\n",
    "\n",
    "mask1 = data['CountryCode'].str.contains(country_filter)\n",
    "mask2 = data['IndicatorName'].str.contains(gdp_filter)\n",
    "\n",
    "gdp_data = data[mask1 & mask2]"
   ]
  },
  {
   "cell_type": "code",
   "execution_count": 348,
   "metadata": {},
   "outputs": [
    {
     "data": {
      "text/html": [
       "<div>\n",
       "<style scoped>\n",
       "    .dataframe tbody tr th:only-of-type {\n",
       "        vertical-align: middle;\n",
       "    }\n",
       "\n",
       "    .dataframe tbody tr th {\n",
       "        vertical-align: top;\n",
       "    }\n",
       "\n",
       "    .dataframe thead th {\n",
       "        text-align: right;\n",
       "    }\n",
       "</style>\n",
       "<table border=\"1\" class=\"dataframe\">\n",
       "  <thead>\n",
       "    <tr style=\"text-align: right;\">\n",
       "      <th></th>\n",
       "      <th>CountryName</th>\n",
       "      <th>CountryCode</th>\n",
       "      <th>IndicatorName</th>\n",
       "      <th>IndicatorCode</th>\n",
       "      <th>Year</th>\n",
       "      <th>Value</th>\n",
       "    </tr>\n",
       "  </thead>\n",
       "  <tbody>\n",
       "    <tr>\n",
       "      <th>11616</th>\n",
       "      <td>India</td>\n",
       "      <td>IND</td>\n",
       "      <td>GDP per capita (constant 2005 US$)</td>\n",
       "      <td>NY.GDP.PCAP.KD</td>\n",
       "      <td>1960</td>\n",
       "      <td>228.304470</td>\n",
       "    </tr>\n",
       "    <tr>\n",
       "      <th>36555</th>\n",
       "      <td>India</td>\n",
       "      <td>IND</td>\n",
       "      <td>GDP per capita (constant 2005 US$)</td>\n",
       "      <td>NY.GDP.PCAP.KD</td>\n",
       "      <td>1961</td>\n",
       "      <td>232.142053</td>\n",
       "    </tr>\n",
       "    <tr>\n",
       "      <th>64095</th>\n",
       "      <td>India</td>\n",
       "      <td>IND</td>\n",
       "      <td>GDP per capita (constant 2005 US$)</td>\n",
       "      <td>NY.GDP.PCAP.KD</td>\n",
       "      <td>1962</td>\n",
       "      <td>234.166685</td>\n",
       "    </tr>\n",
       "    <tr>\n",
       "      <th>92540</th>\n",
       "      <td>India</td>\n",
       "      <td>IND</td>\n",
       "      <td>GDP per capita (constant 2005 US$)</td>\n",
       "      <td>NY.GDP.PCAP.KD</td>\n",
       "      <td>1963</td>\n",
       "      <td>243.176418</td>\n",
       "    </tr>\n",
       "    <tr>\n",
       "      <th>121337</th>\n",
       "      <td>India</td>\n",
       "      <td>IND</td>\n",
       "      <td>GDP per capita (constant 2005 US$)</td>\n",
       "      <td>NY.GDP.PCAP.KD</td>\n",
       "      <td>1964</td>\n",
       "      <td>255.963668</td>\n",
       "    </tr>\n",
       "  </tbody>\n",
       "</table>\n",
       "</div>"
      ],
      "text/plain": [
       "       CountryName CountryCode                       IndicatorName  \\\n",
       "11616        India         IND  GDP per capita (constant 2005 US$)   \n",
       "36555        India         IND  GDP per capita (constant 2005 US$)   \n",
       "64095        India         IND  GDP per capita (constant 2005 US$)   \n",
       "92540        India         IND  GDP per capita (constant 2005 US$)   \n",
       "121337       India         IND  GDP per capita (constant 2005 US$)   \n",
       "\n",
       "         IndicatorCode  Year       Value  \n",
       "11616   NY.GDP.PCAP.KD  1960  228.304470  \n",
       "36555   NY.GDP.PCAP.KD  1961  232.142053  \n",
       "64095   NY.GDP.PCAP.KD  1962  234.166685  \n",
       "92540   NY.GDP.PCAP.KD  1963  243.176418  \n",
       "121337  NY.GDP.PCAP.KD  1964  255.963668  "
      ]
     },
     "execution_count": 348,
     "metadata": {},
     "output_type": "execute_result"
    }
   ],
   "source": [
    "gdp_data.head()"
   ]
  },
  {
   "cell_type": "markdown",
   "metadata": {},
   "source": [
    "<b>Exploring the changes in GDP of India by plotting a line plot</b>"
   ]
  },
  {
   "cell_type": "code",
   "execution_count": 358,
   "metadata": {},
   "outputs": [
    {
     "data": {
      "image/png": "[encoded data removed]",
      "text/plain": [
       "<Figure size 432x288 with 1 Axes>"
      ]
     },
     "metadata": {},
     "output_type": "display_data"
    }
   ],
   "source": [
    "# switch to a line plot\n",
    "plt.plot(stage1['Year'].values, stage1['Value'].values)\n",
    "\n",
    "# Label the axes\n",
    "plt.xlabel('Year')\n",
    "plt.ylabel(gdp_data['IndicatorName'].iloc[0])\n",
    "\n",
    "#label the figure\n",
    "plt.title('GDP growth over the years India')\n",
    "\n",
    "# to make more honest, start they y axis at 0\n",
    "plt.axis([gdp_data['Year'].min(),gdp_data['Year'].max()+1,0,1.2*gdp_data['Value'].max()])\n",
    "\n",
    "plt.show()"
   ]
  },
  {
   "cell_type": "markdown",
   "metadata": {},
   "source": [
    "We can see there has been a substantial growth in GDP since 1990."
   ]
  },
  {
   "cell_type": "markdown",
   "metadata": {},
   "source": [
    "<b>Lets see how the health expenditure have changed over the years for India</b>"
   ]
  },
  {
   "cell_type": "code",
   "execution_count": 360,
   "metadata": {},
   "outputs": [],
   "source": [
    "health_exp_filter = 'Health expenditure per capita, PPP \\(constant 2011'\n",
    "\n",
    "mask3 = data['IndicatorName'].str.contains(health_exp_filter)\n",
    "\n",
    "health_exp_data = data[mask1 & mask3]"
   ]
  },
  {
   "cell_type": "code",
   "execution_count": 498,
   "metadata": {},
   "outputs": [
    {
     "data": {
      "text/html": [
       "<div>\n",
       "<style scoped>\n",
       "    .dataframe tbody tr th:only-of-type {\n",
       "        vertical-align: middle;\n",
       "    }\n",
       "\n",
       "    .dataframe tbody tr th {\n",
       "        vertical-align: top;\n",
       "    }\n",
       "\n",
       "    .dataframe thead th {\n",
       "        text-align: right;\n",
       "    }\n",
       "</style>\n",
       "<table border=\"1\" class=\"dataframe\">\n",
       "  <thead>\n",
       "    <tr style=\"text-align: right;\">\n",
       "      <th></th>\n",
       "      <th>CountryName</th>\n",
       "      <th>CountryCode</th>\n",
       "      <th>IndicatorName</th>\n",
       "      <th>IndicatorCode</th>\n",
       "      <th>Year</th>\n",
       "      <th>Value</th>\n",
       "    </tr>\n",
       "  </thead>\n",
       "  <tbody>\n",
       "    <tr>\n",
       "      <th>2550714</th>\n",
       "      <td>India</td>\n",
       "      <td>IND</td>\n",
       "      <td>Health expenditure per capita, PPP (constant 2...</td>\n",
       "      <td>SH.XPD.PCAP.PP.KD</td>\n",
       "      <td>1995</td>\n",
       "      <td>62.693714</td>\n",
       "    </tr>\n",
       "    <tr>\n",
       "      <th>2685735</th>\n",
       "      <td>India</td>\n",
       "      <td>IND</td>\n",
       "      <td>Health expenditure per capita, PPP (constant 2...</td>\n",
       "      <td>SH.XPD.PCAP.PP.KD</td>\n",
       "      <td>1996</td>\n",
       "      <td>65.399908</td>\n",
       "    </tr>\n",
       "    <tr>\n",
       "      <th>2821168</th>\n",
       "      <td>India</td>\n",
       "      <td>IND</td>\n",
       "      <td>Health expenditure per capita, PPP (constant 2...</td>\n",
       "      <td>SH.XPD.PCAP.PP.KD</td>\n",
       "      <td>1997</td>\n",
       "      <td>74.078822</td>\n",
       "    </tr>\n",
       "    <tr>\n",
       "      <th>2958144</th>\n",
       "      <td>India</td>\n",
       "      <td>IND</td>\n",
       "      <td>Health expenditure per capita, PPP (constant 2...</td>\n",
       "      <td>SH.XPD.PCAP.PP.KD</td>\n",
       "      <td>1998</td>\n",
       "      <td>79.051808</td>\n",
       "    </tr>\n",
       "    <tr>\n",
       "      <th>3097440</th>\n",
       "      <td>India</td>\n",
       "      <td>IND</td>\n",
       "      <td>Health expenditure per capita, PPP (constant 2...</td>\n",
       "      <td>SH.XPD.PCAP.PP.KD</td>\n",
       "      <td>1999</td>\n",
       "      <td>80.501938</td>\n",
       "    </tr>\n",
       "  </tbody>\n",
       "</table>\n",
       "</div>"
      ],
      "text/plain": [
       "        CountryName CountryCode  \\\n",
       "2550714       India         IND   \n",
       "2685735       India         IND   \n",
       "2821168       India         IND   \n",
       "2958144       India         IND   \n",
       "3097440       India         IND   \n",
       "\n",
       "                                             IndicatorName      IndicatorCode  \\\n",
       "2550714  Health expenditure per capita, PPP (constant 2...  SH.XPD.PCAP.PP.KD   \n",
       "2685735  Health expenditure per capita, PPP (constant 2...  SH.XPD.PCAP.PP.KD   \n",
       "2821168  Health expenditure per capita, PPP (constant 2...  SH.XPD.PCAP.PP.KD   \n",
       "2958144  Health expenditure per capita, PPP (constant 2...  SH.XPD.PCAP.PP.KD   \n",
       "3097440  Health expenditure per capita, PPP (constant 2...  SH.XPD.PCAP.PP.KD   \n",
       "\n",
       "         Year      Value  \n",
       "2550714  1995  62.693714  \n",
       "2685735  1996  65.399908  \n",
       "2821168  1997  74.078822  \n",
       "2958144  1998  79.051808  \n",
       "3097440  1999  80.501938  "
      ]
     },
     "execution_count": 498,
     "metadata": {},
     "output_type": "execute_result"
    }
   ],
   "source": [
    "health_exp_data.head()"
   ]
  },
  {
   "cell_type": "markdown",
   "metadata": {},
   "source": [
    "<b>We can check how the growth in the GDP affected the health expenditure by looking at the correlation.</b>"
   ]
  },
  {
   "cell_type": "code",
   "execution_count": 364,
   "metadata": {},
   "outputs": [],
   "source": [
    "filtered_gdp_data = gdp_data[gdp_data['Year'].isin(health_exp_data['Year'].unique().tolist())]"
   ]
  },
  {
   "cell_type": "code",
   "execution_count": 365,
   "metadata": {},
   "outputs": [
    {
     "data": {
      "text/plain": [
       "array([[1.        , 0.99432724],\n",
       "       [0.99432724, 1.        ]])"
      ]
     },
     "execution_count": 365,
     "metadata": {},
     "output_type": "execute_result"
    }
   ],
   "source": [
    "np.corrcoef(filtered_stage1['Value'], stage2['Value'])"
   ]
  },
  {
   "cell_type": "markdown",
   "metadata": {},
   "source": [
    "A correlation of 0.99 is a very good correlation. So we can conclude the GDP growth have lead to proportional increase in health expenditure in India."
   ]
  },
  {
   "cell_type": "code",
   "execution_count": 366,
   "metadata": {},
   "outputs": [],
   "source": [
    "life_exp_filter = 'Life expectancy at birth, total \\(years\\)'\n",
    "\n",
    "mask4 = data['IndicatorName'].str.contains(life_exp_filter)\n",
    "\n",
    "life_exp_data = data[mask1 & mask4]"
   ]
  },
  {
   "cell_type": "code",
   "execution_count": 381,
   "metadata": {},
   "outputs": [
    {
     "data": {
      "text/html": [
       "<div>\n",
       "<style scoped>\n",
       "    .dataframe tbody tr th:only-of-type {\n",
       "        vertical-align: middle;\n",
       "    }\n",
       "\n",
       "    .dataframe tbody tr th {\n",
       "        vertical-align: top;\n",
       "    }\n",
       "\n",
       "    .dataframe thead th {\n",
       "        text-align: right;\n",
       "    }\n",
       "</style>\n",
       "<table border=\"1\" class=\"dataframe\">\n",
       "  <thead>\n",
       "    <tr style=\"text-align: right;\">\n",
       "      <th></th>\n",
       "      <th>CountryName</th>\n",
       "      <th>CountryCode</th>\n",
       "      <th>IndicatorName</th>\n",
       "      <th>IndicatorCode</th>\n",
       "      <th>Year</th>\n",
       "      <th>Value</th>\n",
       "    </tr>\n",
       "  </thead>\n",
       "  <tbody>\n",
       "    <tr>\n",
       "      <th>11684</th>\n",
       "      <td>India</td>\n",
       "      <td>IND</td>\n",
       "      <td>Life expectancy at birth, total (years)</td>\n",
       "      <td>SP.DYN.LE00.IN</td>\n",
       "      <td>1960</td>\n",
       "      <td>41.171951</td>\n",
       "    </tr>\n",
       "    <tr>\n",
       "      <th>36635</th>\n",
       "      <td>India</td>\n",
       "      <td>IND</td>\n",
       "      <td>Life expectancy at birth, total (years)</td>\n",
       "      <td>SP.DYN.LE00.IN</td>\n",
       "      <td>1961</td>\n",
       "      <td>41.790488</td>\n",
       "    </tr>\n",
       "    <tr>\n",
       "      <th>64177</th>\n",
       "      <td>India</td>\n",
       "      <td>IND</td>\n",
       "      <td>Life expectancy at birth, total (years)</td>\n",
       "      <td>SP.DYN.LE00.IN</td>\n",
       "      <td>1962</td>\n",
       "      <td>42.417415</td>\n",
       "    </tr>\n",
       "    <tr>\n",
       "      <th>92622</th>\n",
       "      <td>India</td>\n",
       "      <td>IND</td>\n",
       "      <td>Life expectancy at birth, total (years)</td>\n",
       "      <td>SP.DYN.LE00.IN</td>\n",
       "      <td>1963</td>\n",
       "      <td>43.052732</td>\n",
       "    </tr>\n",
       "    <tr>\n",
       "      <th>121419</th>\n",
       "      <td>India</td>\n",
       "      <td>IND</td>\n",
       "      <td>Life expectancy at birth, total (years)</td>\n",
       "      <td>SP.DYN.LE00.IN</td>\n",
       "      <td>1964</td>\n",
       "      <td>43.698415</td>\n",
       "    </tr>\n",
       "  </tbody>\n",
       "</table>\n",
       "</div>"
      ],
      "text/plain": [
       "       CountryName CountryCode                            IndicatorName  \\\n",
       "11684        India         IND  Life expectancy at birth, total (years)   \n",
       "36635        India         IND  Life expectancy at birth, total (years)   \n",
       "64177        India         IND  Life expectancy at birth, total (years)   \n",
       "92622        India         IND  Life expectancy at birth, total (years)   \n",
       "121419       India         IND  Life expectancy at birth, total (years)   \n",
       "\n",
       "         IndicatorCode  Year      Value  \n",
       "11684   SP.DYN.LE00.IN  1960  41.171951  \n",
       "36635   SP.DYN.LE00.IN  1961  41.790488  \n",
       "64177   SP.DYN.LE00.IN  1962  42.417415  \n",
       "92622   SP.DYN.LE00.IN  1963  43.052732  \n",
       "121419  SP.DYN.LE00.IN  1964  43.698415  "
      ]
     },
     "execution_count": 381,
     "metadata": {},
     "output_type": "execute_result"
    }
   ],
   "source": [
    "life_exp_data.head()"
   ]
  },
  {
   "cell_type": "markdown",
   "metadata": {},
   "source": [
    "Lets plot this data across the line plot to understand it better."
   ]
  },
  {
   "cell_type": "code",
   "execution_count": 378,
   "metadata": {},
   "outputs": [
    {
     "data": {
      "image/png": "[encoded data removed]",
      "text/plain": [
       "<Figure size 432x288 with 1 Axes>"
      ]
     },
     "metadata": {},
     "output_type": "display_data"
    },
    {
     "data": {
      "text/plain": [
       "<Figure size 1440x720 with 0 Axes>"
      ]
     },
     "metadata": {},
     "output_type": "display_data"
    }
   ],
   "source": [
    "# switch to a line plot\n",
    "plt.plot(life_exp_data['Year'].values, life_exp_data['Value'].values)\n",
    "\n",
    "# Label the axes\n",
    "plt.xlabel('Year')\n",
    "plt.ylabel(life_exp_data['IndicatorName'].iloc[0])\n",
    "\n",
    "#label the figure\n",
    "plt.title('Life Expectancy at birth, India')\n",
    "\n",
    "# to make more honest, start they y axis at 0\n",
    "plt.axis([1959,2014,20,100])\n",
    "plt.figure(figsize=(20,10))\n",
    "plt.show()"
   ]
  },
  {
   "cell_type": "markdown",
   "metadata": {},
   "source": [
    "<b>Lets plot a scatterplot to check the relationship between the GDP and Life expectancy.</b>"
   ]
  },
  {
   "cell_type": "markdown",
   "metadata": {},
   "source": [
    "We will merge the two dataframes GDP and Life expectancy into new dataframe country_data"
   ]
  },
  {
   "cell_type": "code",
   "execution_count": 385,
   "metadata": {},
   "outputs": [],
   "source": [
    "country_data = pd.merge(gdp_data,life_exp_data[['IndicatorName','Year','Value']], on='Year', how='inner')"
   ]
  },
  {
   "cell_type": "code",
   "execution_count": 499,
   "metadata": {},
   "outputs": [],
   "source": [
    "country_data = pd.merge(country_data, health_exp_data[['Year','Value']], on='Year', how='left')"
   ]
  },
  {
   "cell_type": "code",
   "execution_count": 522,
   "metadata": {},
   "outputs": [],
   "source": [
    "country_data=country_data.fillna(country_data['Value'].min())"
   ]
  },
  {
   "cell_type": "code",
   "execution_count": 523,
   "metadata": {},
   "outputs": [
    {
     "data": {
      "text/html": [
       "<div>\n",
       "<style scoped>\n",
       "    .dataframe tbody tr th:only-of-type {\n",
       "        vertical-align: middle;\n",
       "    }\n",
       "\n",
       "    .dataframe tbody tr th {\n",
       "        vertical-align: top;\n",
       "    }\n",
       "\n",
       "    .dataframe thead th {\n",
       "        text-align: right;\n",
       "    }\n",
       "</style>\n",
       "<table border=\"1\" class=\"dataframe\">\n",
       "  <thead>\n",
       "    <tr style=\"text-align: right;\">\n",
       "      <th></th>\n",
       "      <th>CountryName</th>\n",
       "      <th>CountryCode</th>\n",
       "      <th>IndicatorName_x</th>\n",
       "      <th>IndicatorCode</th>\n",
       "      <th>Year</th>\n",
       "      <th>Value_x</th>\n",
       "      <th>IndicatorName_y</th>\n",
       "      <th>Value_y</th>\n",
       "      <th>Value</th>\n",
       "    </tr>\n",
       "  </thead>\n",
       "  <tbody>\n",
       "    <tr>\n",
       "      <th>0</th>\n",
       "      <td>India</td>\n",
       "      <td>IND</td>\n",
       "      <td>GDP per capita (constant 2005 US$)</td>\n",
       "      <td>NY.GDP.PCAP.KD</td>\n",
       "      <td>1960</td>\n",
       "      <td>228.304470</td>\n",
       "      <td>Life expectancy at birth, total (years)</td>\n",
       "      <td>41.171951</td>\n",
       "      <td>62.693714</td>\n",
       "    </tr>\n",
       "    <tr>\n",
       "      <th>1</th>\n",
       "      <td>India</td>\n",
       "      <td>IND</td>\n",
       "      <td>GDP per capita (constant 2005 US$)</td>\n",
       "      <td>NY.GDP.PCAP.KD</td>\n",
       "      <td>1961</td>\n",
       "      <td>232.142053</td>\n",
       "      <td>Life expectancy at birth, total (years)</td>\n",
       "      <td>41.790488</td>\n",
       "      <td>62.693714</td>\n",
       "    </tr>\n",
       "    <tr>\n",
       "      <th>2</th>\n",
       "      <td>India</td>\n",
       "      <td>IND</td>\n",
       "      <td>GDP per capita (constant 2005 US$)</td>\n",
       "      <td>NY.GDP.PCAP.KD</td>\n",
       "      <td>1962</td>\n",
       "      <td>234.166685</td>\n",
       "      <td>Life expectancy at birth, total (years)</td>\n",
       "      <td>42.417415</td>\n",
       "      <td>62.693714</td>\n",
       "    </tr>\n",
       "    <tr>\n",
       "      <th>3</th>\n",
       "      <td>India</td>\n",
       "      <td>IND</td>\n",
       "      <td>GDP per capita (constant 2005 US$)</td>\n",
       "      <td>NY.GDP.PCAP.KD</td>\n",
       "      <td>1963</td>\n",
       "      <td>243.176418</td>\n",
       "      <td>Life expectancy at birth, total (years)</td>\n",
       "      <td>43.052732</td>\n",
       "      <td>62.693714</td>\n",
       "    </tr>\n",
       "    <tr>\n",
       "      <th>4</th>\n",
       "      <td>India</td>\n",
       "      <td>IND</td>\n",
       "      <td>GDP per capita (constant 2005 US$)</td>\n",
       "      <td>NY.GDP.PCAP.KD</td>\n",
       "      <td>1964</td>\n",
       "      <td>255.963668</td>\n",
       "      <td>Life expectancy at birth, total (years)</td>\n",
       "      <td>43.698415</td>\n",
       "      <td>62.693714</td>\n",
       "    </tr>\n",
       "  </tbody>\n",
       "</table>\n",
       "</div>"
      ],
      "text/plain": [
       "  CountryName CountryCode                     IndicatorName_x   IndicatorCode  \\\n",
       "0       India         IND  GDP per capita (constant 2005 US$)  NY.GDP.PCAP.KD   \n",
       "1       India         IND  GDP per capita (constant 2005 US$)  NY.GDP.PCAP.KD   \n",
       "2       India         IND  GDP per capita (constant 2005 US$)  NY.GDP.PCAP.KD   \n",
       "3       India         IND  GDP per capita (constant 2005 US$)  NY.GDP.PCAP.KD   \n",
       "4       India         IND  GDP per capita (constant 2005 US$)  NY.GDP.PCAP.KD   \n",
       "\n",
       "   Year     Value_x                          IndicatorName_y    Value_y  \\\n",
       "0  1960  228.304470  Life expectancy at birth, total (years)  41.171951   \n",
       "1  1961  232.142053  Life expectancy at birth, total (years)  41.790488   \n",
       "2  1962  234.166685  Life expectancy at birth, total (years)  42.417415   \n",
       "3  1963  243.176418  Life expectancy at birth, total (years)  43.052732   \n",
       "4  1964  255.963668  Life expectancy at birth, total (years)  43.698415   \n",
       "\n",
       "       Value  \n",
       "0  62.693714  \n",
       "1  62.693714  \n",
       "2  62.693714  \n",
       "3  62.693714  \n",
       "4  62.693714  "
      ]
     },
     "execution_count": 523,
     "metadata": {},
     "output_type": "execute_result"
    }
   ],
   "source": [
    "country_data.head()"
   ]
  },
  {
   "cell_type": "markdown",
   "metadata": {},
   "source": [
    "New column 'Value_y' having values for life expectancy merged with the gdp_data dataframe "
   ]
  },
  {
   "cell_type": "code",
   "execution_count": 550,
   "metadata": {},
   "outputs": [
    {
     "data": {
      "image/png": "[encoded data removed]",
      "text/plain": [
       "<Figure size 864x576 with 1 Axes>"
      ]
     },
     "metadata": {},
     "output_type": "display_data"
    }
   ],
   "source": [
    "fig, axis = plt.subplots(figsize=(12,8))\n",
    "# Grid lines, Xticks, Xlabel, Ylabel\n",
    "\n",
    "axis.yaxis.grid(True)\n",
    "axis.set_title('GDP Growth vs. Life Expectancy (India)',fontsize=10)\n",
    "axis.set_xlabel(country_data['IndicatorName_x'].iloc[0],fontsize=10)\n",
    "axis.set_ylabel(country_data['IndicatorName_y'].iloc[0],fontsize=10)\n",
    "axis.set_ylim(country_data['Value_y'].min()-20, 1.3*country_data['Value_y'].max())\n",
    "\n",
    "X = country_data['Value_x']\n",
    "Y = country_data['Value_y']\n",
    "S = country_data['Value']*3\n",
    "\n",
    "axis.scatter(X, Y, s=S,label='Health Expediture per capita',\n",
    "               alpha=0.8, color='yellow', edgecolors='Red')\n",
    "axis.legend(loc='lower right',prop={'weight':'roman','size':'medium'})\n",
    "\n",
    "plt.show()"
   ]
  },
  {
   "cell_type": "code",
   "execution_count": 528,
   "metadata": {},
   "outputs": [
    {
     "data": {
      "text/plain": [
       "array([[1.        , 0.84850089],\n",
       "       [0.84850089, 1.        ]])"
      ]
     },
     "execution_count": 528,
     "metadata": {},
     "output_type": "execute_result"
    }
   ],
   "source": [
    "np.corrcoef(country_data['Value_x'],country_data['Value_y'])"
   ]
  },
  {
   "cell_type": "code",
   "execution_count": 530,
   "metadata": {},
   "outputs": [
    {
     "data": {
      "text/html": [
       "<div>\n",
       "<style scoped>\n",
       "    .dataframe tbody tr th:only-of-type {\n",
       "        vertical-align: middle;\n",
       "    }\n",
       "\n",
       "    .dataframe tbody tr th {\n",
       "        vertical-align: top;\n",
       "    }\n",
       "\n",
       "    .dataframe thead th {\n",
       "        text-align: right;\n",
       "    }\n",
       "</style>\n",
       "<table border=\"1\" class=\"dataframe\">\n",
       "  <thead>\n",
       "    <tr style=\"text-align: right;\">\n",
       "      <th></th>\n",
       "      <th>Value_x</th>\n",
       "      <th>Value_y</th>\n",
       "      <th>Value</th>\n",
       "    </tr>\n",
       "  </thead>\n",
       "  <tbody>\n",
       "    <tr>\n",
       "      <th>Value_x</th>\n",
       "      <td>1.000000</td>\n",
       "      <td>0.848501</td>\n",
       "      <td>0.963184</td>\n",
       "    </tr>\n",
       "    <tr>\n",
       "      <th>Value_y</th>\n",
       "      <td>0.848501</td>\n",
       "      <td>1.000000</td>\n",
       "      <td>0.698013</td>\n",
       "    </tr>\n",
       "    <tr>\n",
       "      <th>Value</th>\n",
       "      <td>0.963184</td>\n",
       "      <td>0.698013</td>\n",
       "      <td>1.000000</td>\n",
       "    </tr>\n",
       "  </tbody>\n",
       "</table>\n",
       "</div>"
      ],
      "text/plain": [
       "          Value_x   Value_y     Value\n",
       "Value_x  1.000000  0.848501  0.963184\n",
       "Value_y  0.848501  1.000000  0.698013\n",
       "Value    0.963184  0.698013  1.000000"
      ]
     },
     "execution_count": 530,
     "metadata": {},
     "output_type": "execute_result"
    }
   ],
   "source": [
    "country_data[['Value_x','Value_y','Value']].corr()"
   ]
  },
  {
   "cell_type": "markdown",
   "metadata": {},
   "source": [
    "<b>Scatterplot and correlation value of 0.85 clearly shows there is strong relationship between the GDP growth and Life expectancy. With the growth in GDP, life expectancy have increased over the years in India. Lets apply this finding to other countries in our dataset.</b>"
   ]
  },
  {
   "cell_type": "code",
   "execution_count": 391,
   "metadata": {},
   "outputs": [],
   "source": [
    "world_gdp_data = data[mask2]\n",
    "world_life_exp_data = data[mask4]"
   ]
  },
  {
   "cell_type": "code",
   "execution_count": 450,
   "metadata": {},
   "outputs": [
    {
     "data": {
      "text/html": [
       "<div>\n",
       "<style scoped>\n",
       "    .dataframe tbody tr th:only-of-type {\n",
       "        vertical-align: middle;\n",
       "    }\n",
       "\n",
       "    .dataframe tbody tr th {\n",
       "        vertical-align: top;\n",
       "    }\n",
       "\n",
       "    .dataframe thead th {\n",
       "        text-align: right;\n",
       "    }\n",
       "</style>\n",
       "<table border=\"1\" class=\"dataframe\">\n",
       "  <thead>\n",
       "    <tr style=\"text-align: right;\">\n",
       "      <th></th>\n",
       "      <th>CountryName</th>\n",
       "      <th>CountryCode</th>\n",
       "      <th>IndicatorName</th>\n",
       "      <th>IndicatorCode</th>\n",
       "      <th>Year</th>\n",
       "      <th>Value</th>\n",
       "    </tr>\n",
       "  </thead>\n",
       "  <tbody>\n",
       "    <tr>\n",
       "      <th>263</th>\n",
       "      <td>East Asia &amp; Pacific (all income levels)</td>\n",
       "      <td>EAS</td>\n",
       "      <td>GDP per capita (constant 2005 US$)</td>\n",
       "      <td>NY.GDP.PCAP.KD</td>\n",
       "      <td>1960</td>\n",
       "      <td>982.026842</td>\n",
       "    </tr>\n",
       "    <tr>\n",
       "      <th>376</th>\n",
       "      <td>East Asia &amp; Pacific (developing only)</td>\n",
       "      <td>EAP</td>\n",
       "      <td>GDP per capita (constant 2005 US$)</td>\n",
       "      <td>NY.GDP.PCAP.KD</td>\n",
       "      <td>1960</td>\n",
       "      <td>168.600612</td>\n",
       "    </tr>\n",
       "    <tr>\n",
       "      <th>517</th>\n",
       "      <td>Euro area</td>\n",
       "      <td>EMU</td>\n",
       "      <td>GDP per capita (constant 2005 US$)</td>\n",
       "      <td>NY.GDP.PCAP.KD</td>\n",
       "      <td>1960</td>\n",
       "      <td>9388.717505</td>\n",
       "    </tr>\n",
       "    <tr>\n",
       "      <th>623</th>\n",
       "      <td>Europe &amp; Central Asia (all income levels)</td>\n",
       "      <td>ECS</td>\n",
       "      <td>GDP per capita (constant 2005 US$)</td>\n",
       "      <td>NY.GDP.PCAP.KD</td>\n",
       "      <td>1960</td>\n",
       "      <td>6547.964873</td>\n",
       "    </tr>\n",
       "    <tr>\n",
       "      <th>835</th>\n",
       "      <td>European Union</td>\n",
       "      <td>EUU</td>\n",
       "      <td>GDP per capita (constant 2005 US$)</td>\n",
       "      <td>NY.GDP.PCAP.KD</td>\n",
       "      <td>1960</td>\n",
       "      <td>8997.466960</td>\n",
       "    </tr>\n",
       "  </tbody>\n",
       "</table>\n",
       "</div>"
      ],
      "text/plain": [
       "                                   CountryName CountryCode  \\\n",
       "263    East Asia & Pacific (all income levels)         EAS   \n",
       "376      East Asia & Pacific (developing only)         EAP   \n",
       "517                                  Euro area         EMU   \n",
       "623  Europe & Central Asia (all income levels)         ECS   \n",
       "835                             European Union         EUU   \n",
       "\n",
       "                          IndicatorName   IndicatorCode  Year        Value  \n",
       "263  GDP per capita (constant 2005 US$)  NY.GDP.PCAP.KD  1960   982.026842  \n",
       "376  GDP per capita (constant 2005 US$)  NY.GDP.PCAP.KD  1960   168.600612  \n",
       "517  GDP per capita (constant 2005 US$)  NY.GDP.PCAP.KD  1960  9388.717505  \n",
       "623  GDP per capita (constant 2005 US$)  NY.GDP.PCAP.KD  1960  6547.964873  \n",
       "835  GDP per capita (constant 2005 US$)  NY.GDP.PCAP.KD  1960  8997.466960  "
      ]
     },
     "execution_count": 450,
     "metadata": {},
     "output_type": "execute_result"
    }
   ],
   "source": [
    "world_gdp_data.head()"
   ]
  },
  {
   "cell_type": "code",
   "execution_count": 41,
   "metadata": {},
   "outputs": [
    {
     "data": {
      "text/plain": [
       "[]"
      ]
     },
     "execution_count": 41,
     "metadata": {},
     "output_type": "execute_result"
    }
   ],
   "source": [
    "data['IndicatorName'][data['IndicatorName'].str.contains('Product')].unique().tolist()"
   ]
  },
  {
   "cell_type": "code",
   "execution_count": null,
   "metadata": {},
   "outputs": [],
   "source": []
  }
 ],
 "metadata": {
  "kernelspec": {
   "display_name": "Python 3",
   "language": "python",
   "name": "python3"
  },
  "language_info": {
   "codemirror_mode": {
    "name": "ipython",
    "version": 3
   },
   "file_extension": ".py",
   "mimetype": "text/x-python",
   "name": "python",
   "nbconvert_exporter": "python",
   "pygments_lexer": "ipython3",
   "version": "3.6.5"
  }
 },
 "nbformat": 4,
 "nbformat_minor": 2
}
